{
  "nbformat": 4,
  "nbformat_minor": 0,
  "metadata": {
    "colab": {
      "provenance": [],
      "authorship_tag": "ABX9TyOICAgmrxCb/cIgOW1flIHC",
      "include_colab_link": true
    },
    "kernelspec": {
      "name": "python3",
      "display_name": "Python 3"
    },
    "language_info": {
      "name": "python"
    }
  },
  "cells": [
    {
      "cell_type": "markdown",
      "metadata": {
        "id": "view-in-github",
        "colab_type": "text"
      },
      "source": [
        "<a href=\"https://colab.research.google.com/github/insafinsu/python/blob/main/python_modules_work_13_1_2025.ipynb\" target=\"_parent\"><img src=\"https://colab.research.google.com/assets/colab-badge.svg\" alt=\"Open In Colab\"/></a>"
      ]
    },
    {
      "cell_type": "markdown",
      "source": [
        "#time module"
      ],
      "metadata": {
        "id": "sEOfDCUGUAd8"
      }
    },
    {
      "cell_type": "markdown",
      "source": [
        "\n",
        "The time module in Python allows you to work with time-related tasks.like- Creating a specific time,Formatting  current time,parsing string to time,get the current date and time,extracting time components"
      ],
      "metadata": {
        "id": "PYruY4V8UFlb"
      }
    },
    {
      "cell_type": "code",
      "execution_count": null,
      "metadata": {
        "colab": {
          "base_uri": "https://localhost:8080/"
        },
        "id": "qtk6nnL8TpS0",
        "outputId": "cc9a7a7d-04c5-44cb-a3b6-96ad49464255"
      },
      "outputs": [
        {
          "output_type": "stream",
          "name": "stdout",
          "text": [
            "specific time: 12:30:15\n",
            "formatted time: 06:36:18\n",
            "parsed time: 14:30:15\n",
            "current time: 2025-01-13 06:36:18.090080\n",
            "hour: 6\n",
            "minute: 36\n",
            "second: 18\n"
          ]
        }
      ],
      "source": [
        "import datetime\n",
        "\n",
        "# 1. Creating a specific time\n",
        "specific_time = datetime.time(12, 30, 15)\n",
        "print('specific time:', specific_time)\n",
        "\n",
        "# 2. Formatting current time\n",
        "current_datetime = datetime.datetime.now()\n",
        "formatted_time = current_datetime.strftime(\"%H:%M:%S\")\n",
        "print('formatted time:', formatted_time)\n",
        "\n",
        "# 3. Parsing string to time\n",
        "time_string = \"14:30:15\"\n",
        "parsed_time = datetime.datetime.strptime(time_string, \"%H:%M:%S\").time()\n",
        "print('parsed time:', parsed_time)\n",
        "\n",
        "# Get the current date and time\n",
        "current_datetime = datetime.datetime.now()\n",
        "print(\"current time:\",current_datetime)\n",
        "\n",
        "# 4. Extracting time components\n",
        "print(\"hour:\", current_datetime.hour)\n",
        "print(\"minute:\", current_datetime.minute)\n",
        "print(\"second:\", current_datetime.second)\n"
      ]
    },
    {
      "cell_type": "markdown",
      "source": [
        "#collections module"
      ],
      "metadata": {
        "id": "d5l2u2HWYi_E"
      }
    },
    {
      "cell_type": "markdown",
      "source": [
        "The collections module in Python provides specialized container datatypes that make certain tasks easier"
      ],
      "metadata": {
        "id": "9VG2Au6zTxV9"
      }
    },
    {
      "cell_type": "code",
      "source": [
        "#counter\n",
        "from collections import Counter\n",
        "text = \"hello\"\n",
        "count = Counter(text)\n",
        "print(count)"
      ],
      "metadata": {
        "colab": {
          "base_uri": "https://localhost:8080/"
        },
        "id": "R-oDxlNkZnTU",
        "outputId": "6d97f0a1-d5e8-4890-b786-5538e7cfb14e"
      },
      "execution_count": null,
      "outputs": [
        {
          "output_type": "stream",
          "name": "stdout",
          "text": [
            "Counter({'l': 2, 'h': 1, 'e': 1, 'o': 1})\n"
          ]
        }
      ]
    },
    {
      "cell_type": "code",
      "source": [
        "#deque\n",
        "from collections import deque\n",
        "dq = deque([1, 2, 3])\n",
        "dq.append(4)\n",
        "dq.appendleft(0)\n",
        "print(dq)\n",
        "dq.pop()\n",
        "dq.popleft()\n",
        "print(dq)"
      ],
      "metadata": {
        "colab": {
          "base_uri": "https://localhost:8080/"
        },
        "id": "LGnR589rZz60",
        "outputId": "ae0ab1a5-b26d-483a-8ffc-cba841def6f1"
      },
      "execution_count": null,
      "outputs": [
        {
          "output_type": "stream",
          "name": "stdout",
          "text": [
            "deque([0, 1, 2, 3, 4])\n",
            "deque([1, 2, 3])\n"
          ]
        }
      ]
    },
    {
      "cell_type": "code",
      "source": [
        "#namedtuple\n",
        "from collections import namedtuple\n",
        "Point = namedtuple('Point', ['x', 'y'])\n",
        "p = Point(10, 20)\n",
        "print(p)\n",
        "print(p.x, p.y)"
      ],
      "metadata": {
        "colab": {
          "base_uri": "https://localhost:8080/"
        },
        "id": "EuyTHnaNZ-3V",
        "outputId": "95ea9b4e-4a16-4da4-b7f0-71cb07026f1b"
      },
      "execution_count": null,
      "outputs": [
        {
          "output_type": "stream",
          "name": "stdout",
          "text": [
            "Point(x=10, y=20)\n",
            "10 20\n"
          ]
        }
      ]
    },
    {
      "cell_type": "markdown",
      "source": [
        "# itertools"
      ],
      "metadata": {
        "id": "G-ofszFOaO5E"
      }
    },
    {
      "cell_type": "markdown",
      "source": [
        "The itertools module in Python provides efficient tools for handling iterators that work with loops"
      ],
      "metadata": {
        "id": "e1RLmMz4dPlV"
      }
    },
    {
      "cell_type": "code",
      "source": [
        "# permutations()\n",
        "import itertools\n",
        "items = [1, 2, 3]\n",
        "perm = itertools.permutations(items)\n",
        "print(list(perm))"
      ],
      "metadata": {
        "colab": {
          "base_uri": "https://localhost:8080/"
        },
        "id": "z9hwVSPbegi1",
        "outputId": "367f2193-76b0-44d0-f4de-dfbe1345e156"
      },
      "execution_count": null,
      "outputs": [
        {
          "output_type": "stream",
          "name": "stdout",
          "text": [
            "[(1, 2, 3), (1, 3, 2), (2, 1, 3), (2, 3, 1), (3, 1, 2), (3, 2, 1)]\n"
          ]
        }
      ]
    },
    {
      "cell_type": "code",
      "source": [
        "# combinations()\n",
        "import itertools\n",
        "items = [1, 2, 3]\n",
        "comb = itertools.combinations(items, 2)\n",
        "print(list(comb))"
      ],
      "metadata": {
        "colab": {
          "base_uri": "https://localhost:8080/"
        },
        "id": "XIJxbjsJelq1",
        "outputId": "ca7b3e19-5905-4b2d-da74-4f0c833a1af7"
      },
      "execution_count": null,
      "outputs": [
        {
          "output_type": "stream",
          "name": "stdout",
          "text": [
            "[(1, 2), (1, 3), (2, 3)]\n"
          ]
        }
      ]
    },
    {
      "cell_type": "code",
      "source": [
        "# cycle()\n",
        "import itertools\n",
        "items = [1, 2, 3]\n",
        "cyc = itertools.cycle(items)\n",
        "for i in range(6):\n",
        "    print(next(cyc), end=\" \")\n"
      ],
      "metadata": {
        "colab": {
          "base_uri": "https://localhost:8080/"
        },
        "id": "WCwrnmyyesS1",
        "outputId": "b8583bf1-88f0-4d30-af9a-afe78541022f"
      },
      "execution_count": null,
      "outputs": [
        {
          "output_type": "stream",
          "name": "stdout",
          "text": [
            "1 2 3 1 2 3 "
          ]
        }
      ]
    },
    {
      "cell_type": "code",
      "source": [
        "#count()\n",
        "import itertools\n",
        "count = itertools.count(10)\n",
        "for i in range(5):\n",
        "    print(next(count), end=\" \")\n"
      ],
      "metadata": {
        "colab": {
          "base_uri": "https://localhost:8080/"
        },
        "id": "_K7VLc0mez4U",
        "outputId": "f0757774-8a5a-4bc7-9789-0aec70356e4c"
      },
      "execution_count": null,
      "outputs": [
        {
          "output_type": "stream",
          "name": "stdout",
          "text": [
            "10 11 12 13 14 "
          ]
        }
      ]
    },
    {
      "cell_type": "markdown",
      "source": [
        "#functools"
      ],
      "metadata": {
        "id": "JkS5QGzPe6dt"
      }
    },
    {
      "cell_type": "markdown",
      "source": [
        "The functools module in Python provides higher-order functions that are commonly used to simplify tasks like function optimization, combining multiple operations, and working with partial functions"
      ],
      "metadata": {
        "id": "GIY-m9qff3PN"
      }
    },
    {
      "cell_type": "code",
      "source": [
        "# reduce\n",
        "from functools import reduce\n",
        "numbers = [1, 2, 3, 4]\n",
        "result = reduce(lambda x, y: x * y, numbers)\n",
        "print(result)"
      ],
      "metadata": {
        "colab": {
          "base_uri": "https://localhost:8080/"
        },
        "id": "_-X2alO0gCr0",
        "outputId": "d2b8e022-0b66-45d7-f216-c192d9c9c30e"
      },
      "execution_count": null,
      "outputs": [
        {
          "output_type": "stream",
          "name": "stdout",
          "text": [
            "24\n"
          ]
        }
      ]
    },
    {
      "cell_type": "code",
      "source": [
        "# lru_cache\n",
        "from functools import lru_cache\n",
        "@lru_cache(maxsize=None)\n",
        "def fibonacci(n):\n",
        "    if n <= 1:\n",
        "        return n\n",
        "    return fibonacci(n - 1) + fibonacci(n - 2)\n",
        "print(fibonacci(10))"
      ],
      "metadata": {
        "colab": {
          "base_uri": "https://localhost:8080/"
        },
        "id": "6fApSDl4gFVl",
        "outputId": "5fb2810d-72b1-4776-ced6-4ca64cde5ae3"
      },
      "execution_count": null,
      "outputs": [
        {
          "output_type": "stream",
          "name": "stdout",
          "text": [
            "55\n"
          ]
        }
      ]
    },
    {
      "cell_type": "markdown",
      "source": [
        "#json"
      ],
      "metadata": {
        "id": "fe65t_aig5om"
      }
    },
    {
      "cell_type": "markdown",
      "source": [
        "The json module in Python is used to encode (convert) Python objects into JSON format and decode (parse) JSON data back into Python objects"
      ],
      "metadata": {
        "id": "eqPcU7wTg7l9"
      }
    },
    {
      "cell_type": "code",
      "source": [
        "import json\n",
        "person = {\"name\": \"Alice\", \"age\": 30, \"city\": \"New York\"}\n",
        "\n",
        "# Convert Python dictionary to JSON\n",
        "person_json = json.dumps(person)\n",
        "print(person_json)\n"
      ],
      "metadata": {
        "colab": {
          "base_uri": "https://localhost:8080/"
        },
        "id": "tWEDN9akAUdC",
        "outputId": "a42e6c41-bab4-4f9b-aed7-d670ec7c132f"
      },
      "execution_count": null,
      "outputs": [
        {
          "output_type": "stream",
          "name": "stdout",
          "text": [
            "{\"name\": \"Alice\", \"age\": 30, \"city\": \"New York\"}\n"
          ]
        }
      ]
    },
    {
      "cell_type": "code",
      "source": [
        "import json\n",
        "person_json = '{\"name\": \"Alice\", \"age\": 30, \"city\": \"New York\"}'\n",
        "# Convert JSON string to Python dictionary\n",
        "person = json.loads(person_json)\n",
        "print(person)\n"
      ],
      "metadata": {
        "colab": {
          "base_uri": "https://localhost:8080/"
        },
        "id": "rlEcgfG7AbaS",
        "outputId": "a3081b5a-8aa8-4d16-fae9-aa69875364bd"
      },
      "execution_count": null,
      "outputs": [
        {
          "output_type": "stream",
          "name": "stdout",
          "text": [
            "{'name': 'Alice', 'age': 30, 'city': 'New York'}\n"
          ]
        }
      ]
    },
    {
      "cell_type": "markdown",
      "source": [
        "#re"
      ],
      "metadata": {
        "id": "d2ZQsqamBW5p"
      }
    },
    {
      "cell_type": "markdown",
      "source": [
        "\n",
        "The re module in Python provides functions for performing operations with regular expressions, such as searching, matching, and replacing patterns in strings."
      ],
      "metadata": {
        "id": "-e7TpGvaBUzJ"
      }
    },
    {
      "cell_type": "code",
      "source": [
        "#Search\n",
        "import re\n",
        "\n",
        "text = \"hello world\"\n",
        "result = re.search(\"world\", text)\n",
        "print(result.group())\n"
      ],
      "metadata": {
        "colab": {
          "base_uri": "https://localhost:8080/"
        },
        "id": "YaNy82vEBa0A",
        "outputId": "bcc71a0f-a49f-4142-bfa6-3cf9593fb8e7"
      },
      "execution_count": null,
      "outputs": [
        {
          "output_type": "stream",
          "name": "stdout",
          "text": [
            "world\n"
          ]
        }
      ]
    },
    {
      "cell_type": "code",
      "source": [
        "#Match\n",
        "import re\n",
        "\n",
        "text = \"hello world\"\n",
        "result = re.match(\"hello\", text)\n",
        "print(result.group())\n"
      ],
      "metadata": {
        "colab": {
          "base_uri": "https://localhost:8080/"
        },
        "id": "Vl2TkUWUB9jB",
        "outputId": "7c95038f-c65c-4b56-f45f-ba15f29af06a"
      },
      "execution_count": null,
      "outputs": [
        {
          "output_type": "stream",
          "name": "stdout",
          "text": [
            "hello\n"
          ]
        }
      ]
    },
    {
      "cell_type": "code",
      "source": [
        "# Replace\n",
        "import re\n",
        "\n",
        "text = \"I have apples\"\n",
        "new_text = re.sub(\"apples\", \"oranges\", text)\n",
        "print(new_text)\n"
      ],
      "metadata": {
        "colab": {
          "base_uri": "https://localhost:8080/"
        },
        "id": "wD5nCXtYCCSB",
        "outputId": "39d27c80-b043-4ac0-8f85-43ec84598988"
      },
      "execution_count": null,
      "outputs": [
        {
          "output_type": "stream",
          "name": "stdout",
          "text": [
            "I have oranges\n"
          ]
        }
      ]
    },
    {
      "cell_type": "code",
      "source": [
        "#Split\n",
        "import re\n",
        "\n",
        "text = \"apple, banana; cherry\"\n",
        "result = re.split(\"[,;]\", text)\n",
        "print(result)\n"
      ],
      "metadata": {
        "colab": {
          "base_uri": "https://localhost:8080/"
        },
        "id": "2L_muJsyCYN4",
        "outputId": "71c298e2-ff5b-4049-d04e-c585a47116f5"
      },
      "execution_count": null,
      "outputs": [
        {
          "output_type": "stream",
          "name": "stdout",
          "text": [
            "['apple', ' banana', ' cherry']\n"
          ]
        }
      ]
    }
  ]
}